{
 "cells": [
  {
   "cell_type": "code",
   "execution_count": 3,
   "metadata": {},
   "outputs": [],
   "source": [
    "import numpy as np\n",
    "import matplotlib.pyplot as plt\n",
    "from optical_element_io import *\n",
    "from column_io import OpticalColumn\n",
    "from calculate_optical_properties import calc_properties_optics\n",
    "from automation import optimize_many_shapes, optimize_shape_for_current\n",
    "from automation_library import calculate_c3\n",
    "from importlib import reload\n",
    "from misc_library import choose_logger\n",
    "import logging\n",
    "import sys"
   ]
  },
  {
   "cell_type": "code",
   "execution_count": 26,
   "metadata": {},
   "outputs": [
    {
     "name": "stdout",
     "output_type": "stream",
     "text": [
      "Reading file /home/trh/data/mirror/open_end/5elec/30kV/openendmir5elec00_30kV.dat \n",
      "with title: mirror3.dat - test mirror 3\n",
      "Warning! This data file seems to have curvature coordinates. Setting so=True.\n"
     ]
    }
   ],
   "source": [
    "# obj = StrongMagLens('/home/trh/data/std_obj/30kV/obj01.dat')\n",
    "# obj.write('/home/trh/data/std_obj/30kV/obj01_test.dat')\n",
    "oe = ElecLens('/home/trh/data/mirror/open_end/5elec/30kV/openendmir5elec00_30kV.dat')\n",
    "oe.mirror_type(mirror=True,curved_mirror=True)\n",
    "oe.write('/home/trh/data/mirror/open_end/5elec//30kV/openendmir5elec00_30kV.dat')\n",
    "# col = OpticalColumn(oe)\n",
    "# col.write_opt_img_cond_file('/home/trh/data/mirror/open_end/5elec/30kV/test_col00.dat',oe_pos=-8,img_pos=1,energy=30000)"
   ]
  },
  {
   "cell_type": "code",
   "execution_count": 27,
   "metadata": {},
   "outputs": [
    {
     "name": "stdout",
     "output_type": "stream",
     "text": [
      "[  1  39  51  89  91 113 117 145 149 177 181 251]\n",
      "[ 1 11 21 31 41]\n",
      "[array([39, 51]), array([89, 91]), array([113, 117]), array([145, 149]), array([177, 181])]\n",
      "[array([ 1, 21]), array([ 1, 21]), array([ 1, 31]), array([ 1, 31]), array([ 1, 31])]\n",
      "[array([ 1, 41]), array([  1,  39,  51,  89,  91, 113, 117, 145, 149, 177, 251]), array([ 1, 41])]\n"
     ]
    }
   ],
   "source": [
    "print(oe.z_indices)\n",
    "print(oe.r_indices)\n",
    "print(oe.electrode_z_indices)\n",
    "print(oe.electrode_r_indices)\n",
    "# print(oe.electrode_unit_potentials)\n",
    "print(oe.boundary_indices)\n",
    "# print(oe.boundary_unit_potentials)"
   ]
  },
  {
   "cell_type": "code",
   "execution_count": 12,
   "metadata": {},
   "outputs": [],
   "source": [
    "oe.z_indices+= 50"
   ]
  },
  {
   "cell_type": "code",
   "execution_count": 14,
   "metadata": {},
   "outputs": [],
   "source": [
    "for indices in oe.electrode_z_indices:\n",
    "    indices += 50"
   ]
  },
  {
   "cell_type": "code",
   "execution_count": 19,
   "metadata": {},
   "outputs": [],
   "source": [
    "oe.boundary_indices[1] += 50"
   ]
  },
  {
   "cell_type": "code",
   "execution_count": 22,
   "metadata": {},
   "outputs": [],
   "source": [
    "oe.z_indices[:3] = [1, 20, 39]"
   ]
  },
  {
   "cell_type": "code",
   "execution_count": 24,
   "metadata": {},
   "outputs": [],
   "source": [
    "oe.boundary_indices[1][0] = 1"
   ]
  },
  {
   "cell_type": "code",
   "execution_count": 31,
   "metadata": {},
   "outputs": [],
   "source": [
    "oe.z+=25"
   ]
  },
  {
   "cell_type": "code",
   "execution_count": 39,
   "metadata": {},
   "outputs": [],
   "source": [
    "oe.r[:,0] = [40,20,15,5,0]"
   ]
  },
  {
   "cell_type": "code",
   "execution_count": 42,
   "metadata": {},
   "outputs": [],
   "source": [
    "oe.z[:,1] = 15"
   ]
  },
  {
   "cell_type": "code",
   "execution_count": 43,
   "metadata": {},
   "outputs": [],
   "source": [
    "oe.write('/home/trh/data/mirror/open_end/5elec/30kV/openendmir5elec00_30kV.dat')"
   ]
  },
  {
   "cell_type": "code",
   "execution_count": 36,
   "metadata": {},
   "outputs": [
    {
     "name": "stdout",
     "output_type": "stream",
     "text": [
      "optical_element_io:calc_field:846: \n",
      "\n",
      "     *******************************************************************\n",
      "     *                                                                 *\n",
      "     *                       SOFEM-FIELD+RAYTRACE                      *\n",
      "     *                                                                 *\n",
      "     *       For Analysing Magnetic and Electrostatic Lenses and       *\n",
      "     *     Deflectors Using the Second-Order Finite Element Method     *\n",
      "     *                                                                 *\n",
      "     *                         CL Version 1.1                          *\n",
      "     *    Copyright (C) Munro's Electron Beam Software Ltd  Jul 2020   *\n",
      "     *                                                                 *\n",
      "     *******************************************************************\n",
      "\n",
      "\n",
      "      SOMLENSS Module    For Computing Vector Potential Distribution\n",
      "      ----------------   -------------------------------------------\n",
      "                         in Saturated Magnetic Lenses\n",
      "                         ----------------------------\n",
      "                         Using the Second-Order Finite Element Method\n",
      "                         --------------------------------------------\n",
      "\n",
      "\n",
      "\n",
      "Opening files:\n",
      "     obj01_test.dat    ( input) \n",
      "     obj01_test.axb    (output) \n",
      "     obj01_test.pot    (output) \n",
      "     obj01_test.cct    (output) \n",
      "\n",
      "Title:  MAGNETIC SATURATED CIRCUIT (SYMMETRIC LENS)\n",
      "\n",
      "\n",
      "Allocating memory for arrays\n",
      "\n",
      "\n",
      "  Number of        Largest     Max change       Gaussian\n",
      " iterations       residual    in vec potl    Elimination \n",
      "  completed     (Ampturns)     (Webers/m)      Block No.\n",
      "\n",
      "          1     6.3614e+03     3.6951e-01         Finish\n",
      "          2     8.0788e+04     3.1616e-01         Finish\n",
      "          3     3.6930e+03     7.2130e-03         Finish\n",
      "          4     8.7590e+02     2.5417e-03         Finish\n",
      "          5     8.5387e+01     1.0505e-03         Finish\n",
      "          6     1.2326e+01     6.9536e-04         Finish\n",
      "          7     2.3750e+00     1.3658e-04         Finish\n",
      "          8     1.3925e-01     8.6464e-06         Finish\n",
      "          9     2.3596e-03     5.2705e-08         Finish\n",
      "\n",
      " Adequate convergence achieved\n",
      "\n",
      "Writing out the computed results\n",
      "\n",
      "calculate_optical_properties:calc_properties_optics:168: \n"
     ]
    }
   ],
   "source": [
    "oe.calc_field()\n",
    "calc_properties_optics(col)\n",
    "col.read_optical_properties()"
   ]
  },
  {
   "cell_type": "code",
   "execution_count": null,
   "metadata": {},
   "outputs": [],
   "source": []
  },
  {
   "cell_type": "code",
   "execution_count": null,
   "metadata": {},
   "outputs": [],
   "source": []
  },
  {
   "cell_type": "code",
   "execution_count": 37,
   "metadata": {},
   "outputs": [
    {
     "name": "stdout",
     "output_type": "stream",
     "text": [
      "3.97258\n"
     ]
    }
   ],
   "source": [
    "print(col.c3)"
   ]
  },
  {
   "cell_type": "code",
   "execution_count": 50,
   "metadata": {},
   "outputs": [
    {
     "name": "stdout",
     "output_type": "stream",
     "text": [
      "column_io:calc_rays:111: \n",
      "\n",
      "     *******************************************************************\n",
      "     *                                                                 *\n",
      "     *                       SOFEM-FIELD+RAYTRACE                      *\n",
      "     *                                                                 *\n",
      "     *       For Analysing Magnetic and Electrostatic Lenses and       *\n",
      "     *     Deflectors Using the Second-Order Finite Element Method     *\n",
      "     *                                                                 *\n",
      "     *                         CL Version 1.1                          *\n",
      "     *    Copyright (C) Munro's Electron Beam Software Ltd  Jul 2020   *\n",
      "     *                                                                 *\n",
      "     *******************************************************************\n",
      "\n",
      "\n",
      "SORAY Module    For Computing Trajectories in Electrostatic and Magnetic Lenses\n",
      "-------------   ---------------------------------------------------------------\n",
      "                With Rotational (z,r) Symmetry, Using the Second-Order FEM\n",
      "                ----------------------------------------------------------\n",
      "\n",
      "\n",
      "\n",
      "     Opening file:  opt_col01_rays.fcs  for  text output\n",
      "\n",
      "Allocating memory for arrays\n",
      "\n",
      "Reading finite element mesh of magnetic lens\n",
      "\n",
      "Reading magnetic potential distributions\n",
      "\n",
      "Reading initial ray conditions\n",
      "Reading initial ray conditions in old format\n",
      "\n",
      "Computing ray number: 2\n",
      "\n"
     ]
    }
   ],
   "source": [
    "col.write_raytrace_file(\"/home/trh/data/std_oe/30kV/opt_col01.dat\",lens_type='magnetic',initial_direction=0,\n",
    "                        minimum_rays=True,source_pos=-8,screen_pos=40,energy=30000,\n",
    "                        lens_excitation=40000)\n",
    "                        # lens_excitation=col.lens_curr)\n",
    "col.calc_rays()"
   ]
  },
  {
   "cell_type": "code",
   "execution_count": 32,
   "metadata": {},
   "outputs": [
    {
     "data": {
      "image/png": "[encoded data removed]",
      "text/plain": [
       "<Figure size 1080x360 with 1 Axes>"
      ]
     },
     "metadata": {
      "needs_background": "light"
     },
     "output_type": "display_data"
    }
   ],
   "source": [
    "col.plot_rays(coarse_mesh=False,boundary_mesh=True)#,savefile='/home/trh/data/std_oe/30kV/oe_rays.png')"
   ]
  },
  {
   "cell_type": "code",
   "execution_count": 51,
   "metadata": {},
   "outputs": [
    {
     "data": {
      "image/png": "[encoded data removed]",
      "text/plain": [
       "<Figure size 1080x360 with 1 Axes>"
      ]
     },
     "metadata": {
      "needs_background": "light"
     },
     "output_type": "display_data"
    }
   ],
   "source": [
    "col.plot_rays(ylim=[-0.25,0.25],xlim=[-9,45],equal_aspect=False,coarse_mesh=False,boundary_mesh=True,mirror=True) #,savefile='/home/trh/data/std_oe/30kV/only_rays.png')"
   ]
  },
  {
   "cell_type": "code",
   "execution_count": 22,
   "metadata": {},
   "outputs": [
    {
     "name": "stdout",
     "output_type": "stream",
     "text": [
      "Help on method write_raytrace_file in module column_io:\n",
      "\n",
      "write_raytrace_file(mircondfilename, source_pos=90, source_size=200, semiangle=10, energy=200000, initial_direction=180, lens_type='Electrostatic', lens_pos=0, lens_excitation=None, excitation_flag=None, potentials=None, screen_pos=95, relativity=False, cyl_symm=True, r_samples=3, alpha_samples=3, minimum_rays=False, precision=8, n_equipotentials=50) method of column_io.OpticalColumn instance\n",
      "    Creates an input file for SORAY.exe. Primarily for visualizing columns\n",
      "    implemented in MIRROR. All physical parameters have same name, units\n",
      "    and default as in write_mir_img_cond_file(), even when SORAY does not\n",
      "    share units with MIRROR.\n",
      "    \n",
      "    Parameters:\n",
      "        mircondfilename : path\n",
      "            full filename to write imaging conditions file to.\n",
      "    \n",
      "    Optional parameters:\n",
      "        source_pos : float\n",
      "            Source z position (mm). The \"source\" is the starting \n",
      "            position of rays for auto-focusing. \n",
      "            Default 90.\n",
      "        source_size: float\n",
      "            Source size (microns). Not related to resolution; just the\n",
      "            starting size of the ray bundle.\n",
      "            Default 200.\n",
      "        semiangle : float\n",
      "            Semiangle (mrad) for emission from source.\n",
      "            Default 10.\n",
      "        energy : float\n",
      "            Beam kinetic energy (eV). Default 200000.\n",
      "        initial_direction : float\n",
      "            Polar angle (deg) of initial direction. 0 for forwards \n",
      "            propagation or 180 for reverse. \n",
      "            Default 180.\n",
      "        lens_type : str \n",
      "            Type of lens: 'Electrostatic' or 'Magnetic'. \n",
      "            Unused for multi-element columns.\n",
      "            Default 'Electrostatic'.\n",
      "        lens_pos : float\n",
      "            Lens z position (mm). \n",
      "            Unused for multi-element columns.\n",
      "            Default 10. **\n",
      "        lens_excitation : float\n",
      "            Specifies excitation strength of magnetic round lens or\n",
      "            magnetic or electric multipole. Units are A-turns for magnetic \n",
      "            or volts for electric. \n",
      "            Use None if unused or for multi-element columns.\n",
      "            Default None.\n",
      "        excitation_flag : string\n",
      "            Flag associated with lens_excitation.\n",
      "            Flag options are f for fixed, vn for variable, where\n",
      "            n is an integer grouping lenses varied together (e.g. v1)\n",
      "            during autofocusing, or d for dynamic. The purpose of the \n",
      "            dynamic option is unclear. \n",
      "            Use None if unused or for multi-element columns.\n",
      "            Default None.\n",
      "        potentials : MirPotentials instance\n",
      "            The MirPotentials class is used to sensibly store and format the \n",
      "            string used for specifying the potentials of several electrodes.\n",
      "            Use None if unused or for multi-element columns.\n",
      "            Default None. **\n",
      "        screen_pos : float\n",
      "            Screen plane z position (mm). End position of rays for auto-\n",
      "            focusing. Default 95.\n",
      "        relativity : bool\n",
      "            Determines whether relativistic effects are included. \n",
      "            Default False.\n",
      "        cyl_symm : bool\n",
      "            Determines whether to use 2D initial positions for rays.\n",
      "            Default True.\n",
      "        r_samples : int\n",
      "            Number of samples of initial positions in the radial direction.\n",
      "            Default 3.\n",
      "        alpha_samples : int\n",
      "            Number of samples of initial polar angles. Default 3.\n",
      "        minimum_rays : bool\n",
      "            If True, overrides alpha_samples and r_samples and produces \n",
      "            exactly two rays.\n",
      "            default False.\n",
      "        precision : int\n",
      "            Sets precision with which to print ray-related floating point\n",
      "            numbers. \n",
      "            default 8 here to allow tiny source_pos - img_pos difference.\n",
      "        n_equipotentials : int\n",
      "            Number of equally-spaced equipotentials to plot.\n",
      "            Default 50.\n",
      "\n"
     ]
    }
   ],
   "source": [
    "help(col.write_raytrace_file)"
   ]
  },
  {
   "cell_type": "code",
   "execution_count": null,
   "metadata": {},
   "outputs": [],
   "source": []
  }
 ],
 "metadata": {
  "kernelspec": {
   "display_name": "Python 3",
   "language": "python",
   "name": "python3"
  },
  "language_info": {
   "codemirror_mode": {
    "name": "ipython",
    "version": 3
   },
   "file_extension": ".py",
   "mimetype": "text/x-python",
   "name": "python",
   "nbconvert_exporter": "python",
   "pygments_lexer": "ipython3",
   "version": "3.9.2"
  }
 },
 "nbformat": 4,
 "nbformat_minor": 4
}
