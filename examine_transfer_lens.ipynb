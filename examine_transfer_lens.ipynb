{
 "cells": [
  {
   "cell_type": "code",
   "execution_count": 1,
   "metadata": {},
   "outputs": [],
   "source": [
    "import numpy as np\n",
    "import matplotlib.pyplot as plt\n",
    "from optical_element_io import *\n",
    "from column_io import OpticalColumn\n",
    "from calculate_optical_properties import calc_properties_optics\n",
    "from automation import optimize_many_shapes\n",
    "from automation_library import calculate_c3\n",
    "from importlib import reload\n",
    "from misc_library import choose_logger\n",
    "import logging\n",
    "import sys"
   ]
  },
  {
   "cell_type": "code",
   "execution_count": 3,
   "metadata": {},
   "outputs": [
    {
     "name": "stdout",
     "output_type": "stream",
     "text": [
      "Reading file /home/trh/data/transfer/transfer01_110_repeat.dat \n",
      "with title: MAGNETIC SATURATED CIRCUIT (ASYMMETRIC LENS)\n",
      "Warning! This data file seems to have curvature coordinates. Setting so=True.\n"
     ]
    }
   ],
   "source": [
    "tl = StrongMagLens('/home/trh/data/transfer/transfer01_110_repeat.dat')\n",
    "tl.write('/home/trh/data/transfer/transfer01_110_repeat_test.dat')\n",
    "col = OpticalColumn(tl)\n",
    "col.write_opt_img_cond_file('/home/trh/data/transfer/opt_col01_test.dat',img_pos=30,tl_pos=-30,energy=30000)"
   ]
  },
  {
   "cell_type": "code",
   "execution_count": 4,
   "metadata": {},
   "outputs": [
    {
     "name": "stdout",
     "output_type": "stream",
     "text": [
      "optical_element_io:calc_field:846: \n",
      "\n",
      "     *******************************************************************\n",
      "     *                                                                 *\n",
      "     *                       SOFEM-FIELD+RAYTRACE                      *\n",
      "     *                                                                 *\n",
      "     *       For Analysing Magnetic and Electrostatic Lenses and       *\n",
      "     *     Deflectors Using the Second-Order Finite Element Method     *\n",
      "     *                                                                 *\n",
      "     *                         CL Version 1.1                          *\n",
      "     *    Copyright (C) Munro's Electron Beam Software Ltd  Jul 2020   *\n",
      "     *                                                                 *\n",
      "     *******************************************************************\n",
      "\n",
      "\n",
      "      SOMLENSS Module    For Computing Vector Potential Distribution\n",
      "      ----------------   -------------------------------------------\n",
      "                         in Saturated Magnetic Lenses\n",
      "                         ----------------------------\n",
      "                         Using the Second-Order Finite Element Method\n",
      "                         --------------------------------------------\n",
      "\n",
      "\n",
      "\n",
      "Opening files:\n",
      "     transfer01_110_repeat_test.dat    ( input) \n",
      "     transfer01_110_repeat_test.axb    (output) \n",
      "     transfer01_110_repeat_test.pot    (output) \n",
      "     transfer01_110_repeat_test.cct    (output) \n",
      "\n",
      "Title:  MAGNETIC SATURATED CIRCUIT (ASYMMETRIC LENS)\n",
      "\n",
      "\n",
      "Allocating memory for arrays\n",
      "\n",
      "\n",
      "  Number of        Largest     Max change       Gaussian\n",
      " iterations       residual    in vec potl    Elimination \n",
      "  completed     (Ampturns)     (Webers/m)      Block No.\n",
      "\n",
      "          1     3.8062e+01     7.6273e-02         Finish\n",
      "          2     5.0199e+03     4.9369e-02         Finish\n",
      "          3     3.7302e+04     3.2443e-02         Finish\n",
      "          4     8.3172e+03     1.1981e-02         Finish\n",
      "          5     1.6332e+03     4.1535e-03         Finish\n",
      "          6     4.9460e+02     3.8812e-03         Finish\n",
      "          7     4.5234e+03     1.7204e-03         Finish\n",
      "          8     7.2373e+02     1.7419e-03         Finish\n",
      "          9     5.8680e+02     1.7209e-03         Finish\n",
      "         10     8.6824e+01     2.1635e-03         Finish\n",
      "         11     5.3146e+00     3.6733e-03         Finish\n",
      "         12     8.9682e-01     4.6791e-03         Finish\n",
      "         13     3.1913e-01     1.6929e-03         Finish\n",
      "         14     6.4505e-02     4.4101e-04         Finish\n",
      "         15     3.8412e-02     1.2433e-04         Finish\n",
      "         16     3.4334e-02     1.0437e-04         Finish\n",
      "         17     2.7594e-02     5.8702e-05         Finish\n",
      "         18     1.4933e-02     3.0644e-05         Finish\n",
      "         19     7.5203e-03     1.0097e-05         Finish\n",
      "         20     1.4595e-03     2.2126e-06         Finish\n",
      "\n",
      " Adequate convergence achieved\n",
      "\n",
      "Writing out the computed results\n",
      "\n",
      "calculate_optical_properties:calc_properties_optics:168: \n"
     ]
    }
   ],
   "source": [
    "tl.calc_field()\n",
    "calc_properties_optics(col)\n",
    "col.read_optical_properties()"
   ]
  },
  {
   "cell_type": "code",
   "execution_count": 5,
   "metadata": {},
   "outputs": [
    {
     "name": "stdout",
     "output_type": "stream",
     "text": [
      "585.973\n"
     ]
    }
   ],
   "source": [
    "print(col.c3)\n",
    "print(col.f)"
   ]
  },
  {
   "cell_type": "code",
   "execution_count": 6,
   "metadata": {},
   "outputs": [
    {
     "name": "stdout",
     "output_type": "stream",
     "text": [
      "column_io:calc_rays:111: \n",
      "\n",
      "     *******************************************************************\n",
      "     *                                                                 *\n",
      "     *                       SOFEM-FIELD+RAYTRACE                      *\n",
      "     *                                                                 *\n",
      "     *       For Analysing Magnetic and Electrostatic Lenses and       *\n",
      "     *     Deflectors Using the Second-Order Finite Element Method     *\n",
      "     *                                                                 *\n",
      "     *                         CL Version 1.1                          *\n",
      "     *    Copyright (C) Munro's Electron Beam Software Ltd  Jul 2020   *\n",
      "     *                                                                 *\n",
      "     *******************************************************************\n",
      "\n",
      "\n",
      "SORAY Module    For Computing Trajectories in Electrostatic and Magnetic Lenses\n",
      "-------------   ---------------------------------------------------------------\n",
      "                With Rotational (z,r) Symmetry, Using the Second-Order FEM\n",
      "                ----------------------------------------------------------\n",
      "\n",
      "\n",
      "\n",
      "     Opening file:  opt_col01_test_rays.fcs  for  text output\n",
      "\n",
      "Allocating memory for arrays\n",
      "\n",
      "Reading finite element mesh of magnetic lens\n",
      "\n",
      "Reading magnetic potential distributions\n",
      "\n",
      "Reading initial ray conditions\n",
      "Reading initial ray conditions in old format\n",
      "\n",
      "Computing ray number: 2\n",
      "\n"
     ]
    }
   ],
   "source": [
    "col.write_raytrace_file(\"/home/trh/data/transfer/opt_col01_test.dat\",lens_type='magnetic',initial_direction=0,\n",
    "                        minimum_rays=True,source_pos=-30,screen_pos=40,energy=30000,\n",
    "                        lens_excitation=col.lens_curr)\n",
    "col.calc_rays()"
   ]
  },
  {
   "cell_type": "code",
   "execution_count": 7,
   "metadata": {},
   "outputs": [
    {
     "data": {
      "image/png": "[encoded data removed]",
      "text/plain": [
       "<Figure size 1080x360 with 1 Axes>"
      ]
     },
     "metadata": {
      "needs_background": "light"
     },
     "output_type": "display_data"
    }
   ],
   "source": [
    "col.plot_rays(coarse_mesh=False,boundary_mesh=True,savefile='/home/trh/data/transfer/transfer_and_rays.png')"
   ]
  },
  {
   "cell_type": "code",
   "execution_count": 8,
   "metadata": {},
   "outputs": [
    {
     "data": {
      "image/png": "[encoded data removed]",
      "text/plain": [
       "<Figure size 1080x360 with 1 Axes>"
      ]
     },
     "metadata": {
      "needs_background": "light"
     },
     "output_type": "display_data"
    }
   ],
   "source": [
    "col.plot_rays(ylim=[-1.25,1.25],xlim=[-35,45],equal_aspect=False,coarse_mesh=False,boundary_mesh=True,mirror=True,savefile='/home/trh/data/transfer/only_rays.png')"
   ]
  },
  {
   "cell_type": "code",
   "execution_count": 22,
   "metadata": {},
   "outputs": [
    {
     "name": "stdout",
     "output_type": "stream",
     "text": [
      "Help on method write_raytrace_file in module column_io:\n",
      "\n",
      "write_raytrace_file(mircondfilename, source_pos=90, source_size=200, semiangle=10, energy=200000, initial_direction=180, lens_type='Electrostatic', lens_pos=0, lens_excitation=None, excitation_flag=None, potentials=None, screen_pos=95, relativity=False, cyl_symm=True, r_samples=3, alpha_samples=3, minimum_rays=False, precision=8, n_equipotentials=50) method of column_io.OpticalColumn instance\n",
      "    Creates an input file for SORAY.exe. Primarily for visualizing columns\n",
      "    implemented in MIRROR. All physical parameters have same name, units\n",
      "    and default as in write_mir_img_cond_file(), even when SORAY does not\n",
      "    share units with MIRROR.\n",
      "    \n",
      "    Parameters:\n",
      "        mircondfilename : path\n",
      "            full filename to write imaging conditions file to.\n",
      "    \n",
      "    Optional parameters:\n",
      "        source_pos : float\n",
      "            Source z position (mm). The \"source\" is the starting \n",
      "            position of rays for auto-focusing. \n",
      "            Default 90.\n",
      "        source_size: float\n",
      "            Source size (microns). Not related to resolution; just the\n",
      "            starting size of the ray bundle.\n",
      "            Default 200.\n",
      "        semiangle : float\n",
      "            Semiangle (mrad) for emission from source.\n",
      "            Default 10.\n",
      "        energy : float\n",
      "            Beam kinetic energy (eV). Default 200000.\n",
      "        initial_direction : float\n",
      "            Polar angle (deg) of initial direction. 0 for forwards \n",
      "            propagation or 180 for reverse. \n",
      "            Default 180.\n",
      "        lens_type : str \n",
      "            Type of lens: 'Electrostatic' or 'Magnetic'. \n",
      "            Unused for multi-element columns.\n",
      "            Default 'Electrostatic'.\n",
      "        lens_pos : float\n",
      "            Lens z position (mm). \n",
      "            Unused for multi-element columns.\n",
      "            Default 10. **\n",
      "        lens_excitation : float\n",
      "            Specifies excitation strength of magnetic round lens or\n",
      "            magnetic or electric multipole. Units are A-turns for magnetic \n",
      "            or volts for electric. \n",
      "            Use None if unused or for multi-element columns.\n",
      "            Default None.\n",
      "        excitation_flag : string\n",
      "            Flag associated with lens_excitation.\n",
      "            Flag options are f for fixed, vn for variable, where\n",
      "            n is an integer grouping lenses varied together (e.g. v1)\n",
      "            during autofocusing, or d for dynamic. The purpose of the \n",
      "            dynamic option is unclear. \n",
      "            Use None if unused or for multi-element columns.\n",
      "            Default None.\n",
      "        potentials : MirPotentials instance\n",
      "            The MirPotentials class is used to sensibly store and format the \n",
      "            string used for specifying the potentials of several electrodes.\n",
      "            Use None if unused or for multi-element columns.\n",
      "            Default None. **\n",
      "        screen_pos : float\n",
      "            Screen plane z position (mm). End position of rays for auto-\n",
      "            focusing. Default 95.\n",
      "        relativity : bool\n",
      "            Determines whether relativistic effects are included. \n",
      "            Default False.\n",
      "        cyl_symm : bool\n",
      "            Determines whether to use 2D initial positions for rays.\n",
      "            Default True.\n",
      "        r_samples : int\n",
      "            Number of samples of initial positions in the radial direction.\n",
      "            Default 3.\n",
      "        alpha_samples : int\n",
      "            Number of samples of initial polar angles. Default 3.\n",
      "        minimum_rays : bool\n",
      "            If True, overrides alpha_samples and r_samples and produces \n",
      "            exactly two rays.\n",
      "            default False.\n",
      "        precision : int\n",
      "            Sets precision with which to print ray-related floating point\n",
      "            numbers. \n",
      "            default 8 here to allow tiny source_pos - img_pos difference.\n",
      "        n_equipotentials : int\n",
      "            Number of equally-spaced equipotentials to plot.\n",
      "            Default 50.\n",
      "\n"
     ]
    }
   ],
   "source": [
    "help(col.write_raytrace_file)"
   ]
  },
  {
   "cell_type": "code",
   "execution_count": null,
   "metadata": {},
   "outputs": [],
   "source": []
  }
 ],
 "metadata": {
  "kernelspec": {
   "display_name": "Python 3 (ipykernel)",
   "language": "python",
   "name": "python3"
  },
  "language_info": {
   "codemirror_mode": {
    "name": "ipython",
    "version": 3
   },
   "file_extension": ".py",
   "mimetype": "text/x-python",
   "name": "python",
   "nbconvert_exporter": "python",
   "pygments_lexer": "ipython3",
   "version": "3.9.2"
  }
 },
 "nbformat": 4,
 "nbformat_minor": 4
}
